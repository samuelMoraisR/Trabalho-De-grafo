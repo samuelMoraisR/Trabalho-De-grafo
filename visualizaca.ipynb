{
  "cells": [
    {
      "cell_type": "code",
      "execution_count": null,
      "metadata": {},
      "outputs": [
        {
          "ename": "ImportError",
          "evalue": "cannot import name 'Grafo' from 'grafo' (c:\\Users\\samum\\Desktop\\trabalhoPy\\grafo.py)",
          "output_type": "error",
          "traceback": [
            "\u001b[31m---------------------------------------------------------------------------\u001b[39m",
            "\u001b[31mImportError\u001b[39m                               Traceback (most recent call last)",
            "\u001b[36mCell\u001b[39m\u001b[36m \u001b[39m\u001b[32mIn[14]\u001b[39m\u001b[32m, line 2\u001b[39m\n\u001b[32m      1\u001b[39m \u001b[38;5;28;01mfrom\u001b[39;00m\u001b[38;5;250m \u001b[39m\u001b[34;01mleitor\u001b[39;00m\u001b[38;5;250m \u001b[39m\u001b[38;5;28;01mimport\u001b[39;00m ler_instancia\n\u001b[32m----> \u001b[39m\u001b[32m2\u001b[39m \u001b[38;5;28;01mfrom\u001b[39;00m\u001b[38;5;250m \u001b[39m\u001b[34;01mgrafo\u001b[39;00m\u001b[38;5;250m \u001b[39m\u001b[38;5;28;01mimport\u001b[39;00m Grafo\n\u001b[32m      3\u001b[39m \u001b[38;5;28;01mfrom\u001b[39;00m\u001b[38;5;250m \u001b[39m\u001b[34;01mestatisticas\u001b[39;00m\u001b[38;5;250m \u001b[39m\u001b[38;5;28;01mimport\u001b[39;00m estatisticas_completas\n",
            "\u001b[31mImportError\u001b[39m: cannot import name 'Grafo' from 'grafo' (c:\\Users\\samum\\Desktop\\trabalhoPy\\grafo.py)"
          ]
        }
      ],
      "source": [
        "from leitor import ler_instancia\n",
        "from grafo import Grafo\n",
        "from estatisticas import estatisticas_completas"
      ]
    },
    {
      "cell_type": "code",
      "execution_count": 2,
      "metadata": {},
      "outputs": [
        {
          "name": "stdout",
          "output_type": "stream",
          "text": [
            " Instância carregada com sucesso.\n"
          ]
        }
      ],
      "source": [
        "dados = ler_instancia(\"data/BHW1.dat\")\n",
        "\n",
        "if not dados:\n",
        "    print(\" Falha ao carregar a instância.\")\n",
        "else:\n",
        "    print(\" Instância carregada com sucesso.\")"
      ]
    },
    {
      "cell_type": "code",
      "execution_count": 13,
      "metadata": {},
      "outputs": [
        {
          "ename": "NameError",
          "evalue": "name 'Grafo' is not defined",
          "output_type": "error",
          "traceback": [
            "\u001b[31m---------------------------------------------------------------------------\u001b[39m",
            "\u001b[31mNameError\u001b[39m                                 Traceback (most recent call last)",
            "\u001b[36mCell\u001b[39m\u001b[36m \u001b[39m\u001b[32mIn[13]\u001b[39m\u001b[32m, line 1\u001b[39m\n\u001b[32m----> \u001b[39m\u001b[32m1\u001b[39m grafo = \u001b[43mGrafo\u001b[49m(dados)\n\u001b[32m      2\u001b[39m \u001b[38;5;28mprint\u001b[39m(\u001b[33mf\u001b[39m\u001b[33m\"\u001b[39m\u001b[33mGrafo criado com \u001b[39m\u001b[38;5;132;01m{\u001b[39;00mgrafo.num_nodes\u001b[38;5;132;01m}\u001b[39;00m\u001b[33m nós.\u001b[39m\u001b[33m\"\u001b[39m)\n",
            "\u001b[31mNameError\u001b[39m: name 'Grafo' is not defined"
          ]
        }
      ],
      "source": [
        "grafo = Grafo(dados)\n",
        "print(f\"Grafo criado com {grafo.num_nodes} nós.\")"
      ]
    },
    {
      "cell_type": "code",
      "execution_count": 6,
      "metadata": {},
      "outputs": [
        {
          "name": "stdout",
          "output_type": "stream",
          "text": [
            "Total de arestas: 11\n",
            "Total de arcos: 22\n",
            "Número total de vértices: 12\n",
            "Arestas requeridas: 11\n",
            "Arcos requeridos: 11\n",
            "Vértices requeridos: 7\n",
            "\n",
            "Distribuição de graus:\n",
            "Grau máximo: 5\n",
            "Grau mínimo: 3\n",
            "Grau do depósito (1): 5\n",
            "\n",
            "Densidade do grafo: 0.2500\n",
            "\n",
            "Componentes conexos: 1\n",
            "Tamanho do maior componente: 12\n",
            "Tamanho do menor componente: 12\n",
            "\n",
            "Diâmetro do grafo: 30\n",
            "Caminho médio: 16.71\n",
            "\n",
            "Nó com maior intermediação: 5 (valor: 22)\n",
            "\n",
            "Distâncias a partir do depósito 1:\n",
            "  → Nó 2: 13\n",
            "  → Nó 3: 19\n",
            "  → Nó 4: 17\n",
            "  → Nó 7: 11\n",
            "  → Nó 10: 19\n",
            "  → Nó 11: 29\n",
            "  → Nó 12: 4\n"
          ]
        }
      ],
      "source": [
        "estatisticas_completas(grafo)"
      ]
    },
    {
      "cell_type": "code",
      "execution_count": 7,
      "metadata": {},
      "outputs": [
        {
          "name": "stdout",
          "output_type": "stream",
          "text": [
            " Total de arestas (todas): 11\n",
            " Total de arcos (todos): 22\n"
          ]
        }
      ],
      "source": [
        "# Totais gerais (requeridas + não requeridas)\n",
        "total_arestas = len(grafo.arestas)\n",
        "total_arcos = len(grafo.arcos)\n",
        "print(f\" Total de arestas (todas): {total_arestas}\")\n",
        "print(f\" Total de arcos (todos): {total_arcos}\")"
      ]
    }
  ],
  "metadata": {
    "kernelspec": {
      "display_name": "Python 3",
      "name": "python3"
    },
    "language_info": {
      "codemirror_mode": {
        "name": "ipython",
        "version": 3
      },
      "file_extension": ".py",
      "mimetype": "text/x-python",
      "name": "python",
      "nbconvert_exporter": "python",
      "pygments_lexer": "ipython3",
      "version": "3.13.1"
    }
  },
  "nbformat": 4,
  "nbformat_minor": 2
}
